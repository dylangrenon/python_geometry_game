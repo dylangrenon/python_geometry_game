{
  "nbformat": 4,
  "nbformat_minor": 0,
  "metadata": {
    "colab": {
      "name": "GeometryGame.ipynb",
      "provenance": [],
      "collapsed_sections": []
    },
    "kernelspec": {
      "name": "python3",
      "display_name": "Python 3"
    },
    "language_info": {
      "name": "python"
    }
  },
  "cells": [
    {
      "cell_type": "code",
      "execution_count": 1,
      "metadata": {
        "id": "EYJJOf18iMZw"
      },
      "outputs": [],
      "source": [
        "class Point:\n",
        "\n",
        "    def __init__(self, x, y):\n",
        "        self.x = x\n",
        "        self.y = y\n",
        "\n",
        "    def falls_in_rectangle(self, rectangle):\n",
        "        if rectangle.lowleft.x < self.x < rectangle.upright.x \\\n",
        "        and rectangle.lowleft.y < self.y < rectangle.upright.y:\n",
        "            return True\n",
        "        else:\n",
        "            return False\n",
        "\n",
        "    def distance_from_point(self, point):\n",
        "        return ((self.x - point.x) **2 +\n",
        "                (self.y - point.y) **2) ** .05\n",
        "\n",
        "class House:\n",
        "    def __init__(self, wall_area):\n",
        "        self.wall_area = wall_area\n",
        "\n",
        "    def paint_needed(self):\n",
        "        return self.wall_area * 2.5\n",
        "\n",
        "class Paint:\n",
        "    def __init__(self, buckets, color):\n",
        "        self.buckets= buckets\n",
        "        self.color = color\n",
        "    \n",
        "    def total_price(self):\n",
        "        if self.color == 'white':\n",
        "            return self.buckets * 1.99\n",
        "        else:\n",
        "            return self.buckets * 2.19\n",
        "\n",
        "class Rectangle:\n",
        "\n",
        "    def __init__(self, lowleft, upright):\n",
        "      self.lowleft = lowleft\n",
        "      self.upright = upright"
      ]
    },
    {
      "cell_type": "code",
      "source": [
        "from random import randint\n",
        "\n",
        "rectangle = Rectangle(\n",
        "    Point(randint(0,9), randint(0, 9)),\n",
        "    Point(randint(10, 19), randint(10, 19)))"
      ],
      "metadata": {
        "id": "GneA_EpvNMix"
      },
      "execution_count": 2,
      "outputs": []
    },
    {
      "cell_type": "code",
      "source": [
        "print(\"Rectangle Coordinates: \",\n",
        "      rectangle.lowleft.x, \",\",\n",
        "      rectangle.lowleft.y, \"and\",\n",
        "      rectangle.upright.x, \",\",\n",
        "      rectangle.upright.y)\n",
        "\n",
        "user_point = Point(float(input(\"Guess X: \")),\n",
        "                   float(input(\"Guess Y: \")))\n",
        "\n",
        "print(\"Your point was inside retangle: \",\n",
        "           user_point.falls_in_rectangle(rectangle))"
      ],
      "metadata": {
        "colab": {
          "base_uri": "https://localhost:8080/"
        },
        "id": "gzY0zkPjNd5T",
        "outputId": "5259e3b2-6e96-4fcc-c767-55d9d988e960"
      },
      "execution_count": 10,
      "outputs": [
        {
          "output_type": "stream",
          "name": "stdout",
          "text": [
            "Rectangle Coordinates:  9 , 6 and 10 , 10\n",
            "Guess X: 5\n",
            "Guess Y: 5\n",
            "Your point was inside retangle:  False\n"
          ]
        }
      ]
    },
    {
      "cell_type": "code",
      "source": [
        "pointx = Point(6, 7)"
      ],
      "metadata": {
        "id": "cQV37PBU7kH5"
      },
      "execution_count": null,
      "outputs": []
    },
    {
      "cell_type": "code",
      "source": [
        "rectanglex = Rectangle(Point(5, 6), Point(7,9))"
      ],
      "metadata": {
        "id": "8cHnb8Mz-Y1R"
      },
      "execution_count": null,
      "outputs": []
    },
    {
      "cell_type": "code",
      "source": [
        "pointx.falls_in_rectangle(rectanglex)"
      ],
      "metadata": {
        "colab": {
          "base_uri": "https://localhost:8080/"
        },
        "id": "T8L4NdmxE2c5",
        "outputId": "ffb0aa81-9343-418f-93e7-5803d0994892"
      },
      "execution_count": null,
      "outputs": [
        {
          "output_type": "execute_result",
          "data": {
            "text/plain": [
              "True"
            ]
          },
          "metadata": {},
          "execution_count": 15
        }
      ]
    }
  ]
}