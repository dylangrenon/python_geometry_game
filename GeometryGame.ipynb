{
  "nbformat": 4,
  "nbformat_minor": 0,
  "metadata": {
    "colab": {
      "name": "GeometryGame.ipynb",
      "provenance": [],
      "collapsed_sections": []
    },
    "kernelspec": {
      "name": "python3",
      "display_name": "Python 3"
    },
    "language_info": {
      "name": "python"
    }
  },
  "cells": [
    {
      "cell_type": "code",
      "execution_count": 11,
      "metadata": {
        "id": "EYJJOf18iMZw"
      },
      "outputs": [],
      "source": [
        "class Point:\n",
        "\n",
        "    def __init__(self, x, y):\n",
        "        self.x = x\n",
        "        self.y = y\n",
        "\n",
        "    def falls_in_rectangle(self, rectangle):\n",
        "        if rectangle.lowleft.x < self.x < rectangle.upright.x \\\n",
        "        and rectangle.lowleft.y < self.y < rectangle.upright.y:\n",
        "            return True\n",
        "        else:\n",
        "            return False\n",
        "\n",
        "class Rectangle:\n",
        "\n",
        "    def __init__(self, lowleft, upright):\n",
        "      self.lowleft = lowleft\n",
        "      self.upright = upright"
      ]
    },
    {
      "cell_type": "code",
      "source": [
        "from random import randint\n",
        "\n",
        "rectangle = Rectangle(\n",
        "    Point(randint(0,9), randint(0, 9)),\n",
        "    Point(randint(10, 19), randint(10, 19)))"
      ],
      "metadata": {
        "id": "GneA_EpvNMix"
      },
      "execution_count": 12,
      "outputs": []
    },
    {
      "cell_type": "code",
      "source": [
        "print(\"Rectangle Coordinates: \",\n",
        "      rectangle.lowleft.x, \",\",\n",
        "      rectangle.lowleft.y, \"and\",\n",
        "      rectangle.upright.x, \",\",\n",
        "      rectangle.upright.y)\n",
        "\n",
        "user_point = Point(float(input(\"Guess X: \")),\n",
        "                   float(input(\"Guess Y: \")))\n",
        "\n",
        "print(\"Your point was inside retangle: \",\n",
        "           user_point.falls_in_rectangle(rectangle))"
      ],
      "metadata": {
        "colab": {
          "base_uri": "https://localhost:8080/"
        },
        "id": "gzY0zkPjNd5T",
        "outputId": "8f4bfafe-f539-4217-cf80-641d6c27ac1a"
      },
      "execution_count": 13,
      "outputs": [
        {
          "output_type": "stream",
          "name": "stdout",
          "text": [
            "Rectangle Coordinates:  6 , 1 and 15 , 16\n",
            "Guess X: 5\n",
            "Guess Y: 12\n",
            "Your point was inside retangle:  False\n"
          ]
        }
      ]
    }
  ]
}